{
 "cells": [
  {
   "cell_type": "code",
   "execution_count": 27,
   "metadata": {},
   "outputs": [],
   "source": [
    "import json\n",
    "fl = './data/ocr_response.json'\n",
    "\n",
    "with open(fl) as f:\n",
    "    data = json.load(f)\n",
    "f.close()"
   ]
  },
  {
   "cell_type": "code",
   "execution_count": 28,
   "metadata": {},
   "outputs": [],
   "source": [
    "def parse_json(data):\n",
    "    for key, value in data.items():\n",
    "        if isinstance(value, dict):\n",
    "            parse_json(value)\n",
    "        else:\n",
    "            print(\"%s: %s\" % (key, value))"
   ]
  },
  {
   "cell_type": "code",
   "execution_count": 29,
   "metadata": {},
   "outputs": [],
   "source": [
    "def get_keys(data):\n",
    "    for key, value in data.items():\n",
    "        if isinstance(value, dict):\n",
    "            parse_json(value)\n",
    "        else:\n",
    "            print(key)"
   ]
  },
  {
   "cell_type": "code",
   "execution_count": 30,
   "metadata": {},
   "outputs": [
    {
     "data": {
      "text/plain": [
       "list"
      ]
     },
     "execution_count": 30,
     "metadata": {},
     "output_type": "execute_result"
    }
   ],
   "source": [
    "type(data)"
   ]
  },
  {
   "cell_type": "code",
   "execution_count": 31,
   "metadata": {},
   "outputs": [
    {
     "data": {
      "text/plain": [
       "{'BlockType': 'PAGE',\n",
       " 'Geometry': {'BoundingBox': {'Width': 1.0,\n",
       "   'Height': 1.0,\n",
       "   'Left': 0.0,\n",
       "   'Top': 0.0},\n",
       "  'Polygon': [{'X': 8.756259340522983e-17, 'Y': 0.0},\n",
       "   {'X': 1.0, 'Y': 1.7124056136545344e-16},\n",
       "   {'X': 1.0, 'Y': 1.0},\n",
       "   {'X': 0.0, 'Y': 1.0}]},\n",
       " 'Id': '20146f91-eb9b-4648-8861-027560e0b40e',\n",
       " 'Relationships': [{'Type': 'CHILD',\n",
       "   'Ids': ['9b4cc45f-a289-48a4-89ae-781f45e82510',\n",
       "    'ae83bce9-ade3-4c16-aaf3-aaada14af112',\n",
       "    '1d83fad1-b494-463f-a7ca-90eec31f6d31',\n",
       "    '7037327a-267a-487b-9b3d-469c674ead20',\n",
       "    'f2539a82-08ba-4fb8-ac2d-e54e040e35c2',\n",
       "    'f28cbbac-8155-443a-b79d-95ccf4848e45',\n",
       "    'bee6b3a9-67d7-428d-8b2d-e8fc1d3736e1',\n",
       "    '276a6b55-7502-4dae-80c4-b3be5fa23ba6',\n",
       "    '65960d2f-6908-4b02-a787-37686bdb8923',\n",
       "    '32b7f14e-0209-4bd3-8059-cc0398ae0a21',\n",
       "    '88e4bb8e-20c1-43ce-8d61-a7f8940d7b51',\n",
       "    '344e1ef5-3a15-4cf1-9697-e0981cc604dc',\n",
       "    '0337b78c-c197-443d-a81d-739af468a223',\n",
       "    '63d319dc-2a59-425c-92df-f1ef66cbb10c',\n",
       "    'd1a05a31-43ae-4f0a-ab24-a0be5ad53813',\n",
       "    '19c1c9fd-b7c1-4fae-9037-2afdf8f2fb16',\n",
       "    '09dd48f5-2811-4a3e-8b3a-a307c7bd5211',\n",
       "    '7fc54e50-884d-4e69-914d-25fa58023854',\n",
       "    '7e421b81-9f17-4061-bfb0-cdb45ccc5bf9',\n",
       "    'cf47c1cb-4df7-4b84-9652-a0a05e7ae00b',\n",
       "    '0e452583-ae9e-41d1-943e-d6406b7df14f',\n",
       "    '5493582f-93df-4f8c-a4c1-b24e61524a33',\n",
       "    '0adaefa4-37ca-4602-b24f-673d2d670af0',\n",
       "    'c40c174a-83f2-4a71-bfbf-103416b92d37',\n",
       "    'c1b8c98a-d46e-43b2-ae8b-a72a5d747ca3',\n",
       "    'd529714f-ee96-4f00-a4fd-d516cdb04d9d',\n",
       "    'ab892cb7-a9a4-439f-ab73-84a84ab053fa',\n",
       "    'b8d6f238-0369-43fb-88c8-4b98899cb016',\n",
       "    '0dfa7c09-91aa-488e-9d84-9cc5a5dc1a9c',\n",
       "    'c2bca769-ff59-4075-94a4-62092b068195',\n",
       "    '2072aa52-921d-4345-8c35-ea85f12c04a6',\n",
       "    'ef32ba5a-1410-4e02-a689-4543f1ccb309',\n",
       "    '158e5848-fca6-465d-9d96-ac0f149d67fb',\n",
       "    '90144edf-74cd-4dd0-b153-e94c3f06bea8',\n",
       "    '502eb618-2e63-4fe3-b6a7-aa1b33e924c3',\n",
       "    '9b4d8aac-ba82-4cb6-97a4-a34cb7a1272f',\n",
       "    'c00aaf73-7c84-49d8-be54-7bfd6bc79c56',\n",
       "    'ac5d65f6-3bc1-4c6f-a612-e73b4c922d88',\n",
       "    '8e4c2e27-5027-4d3c-9de7-33024f7c0dee',\n",
       "    'a99fae04-d05f-4a06-9ce4-ded33d01bcb5',\n",
       "    '13a1cdac-eddf-4bf0-bc48-1702099b48b4',\n",
       "    '556bf2e3-00ea-42ae-89f3-0bfbe1002087',\n",
       "    'a18da828-cc1e-463c-9710-492922ecce05',\n",
       "    '2e18a9ba-656e-42b9-8037-a4177be8b4f5',\n",
       "    'ba36f5d3-8cb8-442c-9dcd-e0fe776f6679',\n",
       "    'c2174887-e0d8-4bd5-b1c4-0dc038bac6b2',\n",
       "    '3ca57363-d2b3-4bdb-8703-787ea05c7df2',\n",
       "    'f9dd7191-eeff-4402-afa1-0dddfc83e4dc',\n",
       "    'ae396695-e3fc-4d28-943a-164ceecbdc00',\n",
       "    'fd63f748-58d3-4bec-a92a-8b9f6d18ae35',\n",
       "    '950fd58f-acac-4a94-a650-20e01af73984',\n",
       "    '8daf32b7-cb40-4123-b786-c17fea4ac683',\n",
       "    'f2d776e5-0caa-4fdb-9c15-15ed8dec934b',\n",
       "    '56647c79-cb88-4154-ae00-3afb5f60d76a',\n",
       "    '96734499-1b98-4b22-a2a0-015c21ceb839',\n",
       "    '479196a8-1837-4dda-86dd-9604eb95cece',\n",
       "    '58131560-d196-4ca2-a64d-7b49b819cb9d',\n",
       "    'ad0a8281-a8f7-4cc0-a2bd-3ed08c32d873',\n",
       "    '57cf9bab-cf0d-44cb-a3e1-427d097fa809',\n",
       "    '3cf3022f-3bea-4018-967b-1c6e6aedefd7',\n",
       "    'cff3d4b9-e7db-4e15-b7d2-4b66e4f28d71',\n",
       "    '6a9b4f89-ab0f-4e38-b68f-85ef802128bf',\n",
       "    '781c4ab9-1e4a-45a5-83af-0cb35edafc4d',\n",
       "    'baead906-4697-430d-9e0f-a0d1aad1a683',\n",
       "    '0df591cd-6326-4f30-96dc-4784672f4931',\n",
       "    '8efc78b0-0117-40e4-b952-0723b6bcaeb8',\n",
       "    'd1828809-bcdc-447f-8afb-6924d6edee0c',\n",
       "    '54822951-3e44-4925-b7df-8dd0997d6008',\n",
       "    '9d9b7f5b-ad1f-4940-8bbf-ea4c2e250aeb',\n",
       "    '7b84b411-6c24-4487-b30d-03a335800aa2',\n",
       "    '1fe5647b-e529-493e-bc28-6f82bd030e37',\n",
       "    '44ba45ab-5ff6-44c6-8cda-1e8067cdcf69',\n",
       "    '826fae88-4a2a-4d4a-879b-91bc15be668f',\n",
       "    '85731ba3-610b-49b1-9c4a-8f00b34abaf8',\n",
       "    '441512b0-464d-41fd-9f83-1bf3efb55113',\n",
       "    '8bf6036b-acbe-4f29-901a-cfe4baf09c99',\n",
       "    '390d7c66-98f0-42f3-9d61-7eccc50eeaa9',\n",
       "    '180ef1d6-541b-464e-ad39-c081e325adbc',\n",
       "    'fbaa36ad-fdc9-478d-b22e-a9ceb9406bc6',\n",
       "    '555b707d-1a7e-4f47-a65e-af04343b3c07']}]}"
      ]
     },
     "execution_count": 31,
     "metadata": {},
     "output_type": "execute_result"
    }
   ],
   "source": [
    "data[0]"
   ]
  },
  {
   "cell_type": "code",
   "execution_count": 32,
   "metadata": {},
   "outputs": [
    {
     "data": {
      "text/plain": [
       "{'BlockType': 'LINE',\n",
       " 'Confidence': 94.7291488647461,\n",
       " 'Text': 'POWER KEYNOTE LEGEND (Not all notes apply to each sheet)',\n",
       " 'Geometry': {'BoundingBox': {'Width': 0.11629747599363327,\n",
       "   'Height': 0.007309596985578537,\n",
       "   'Left': 0.7197017669677734,\n",
       "   'Top': 0.037217725068330765},\n",
       "  'Polygon': [{'X': 0.7197017669677734, 'Y': 0.037217725068330765},\n",
       "   {'X': 0.8359992504119873, 'Y': 0.037217725068330765},\n",
       "   {'X': 0.8359992504119873, 'Y': 0.0445273220539093},\n",
       "   {'X': 0.7197017669677734, 'Y': 0.0445273220539093}]},\n",
       " 'Id': '9b4cc45f-a289-48a4-89ae-781f45e82510',\n",
       " 'Relationships': [{'Type': 'CHILD',\n",
       "   'Ids': ['fec1beb0-3c92-4350-ade1-23ec5d472364',\n",
       "    'f574c917-b7f9-41aa-b034-6c7f2e479eeb',\n",
       "    '8f3ccfd3-ce1a-41c1-a4d9-4b07ec3b2822',\n",
       "    '1483f83e-1cbd-4245-a863-99ccf9f9c049',\n",
       "    'c9bb1a2a-a84e-4789-9a15-b81df1c7aa64',\n",
       "    'dedd9009-5976-4bf0-9567-58b5550b990d',\n",
       "    '59e49ca0-8407-4528-9fa2-1dfb10436fef',\n",
       "    '03b61bdd-2f2b-4c93-87e3-6cd46feca3a5',\n",
       "    '1973de3e-da43-42bc-8284-ad2cd38010ba',\n",
       "    'fa662341-0f88-4759-b0f0-815b024e0869']}]}"
      ]
     },
     "execution_count": 32,
     "metadata": {},
     "output_type": "execute_result"
    }
   ],
   "source": [
    "data[1]"
   ]
  },
  {
   "cell_type": "code",
   "execution_count": 33,
   "metadata": {},
   "outputs": [
    {
     "data": {
      "text/plain": [
       "{'BlockType': 'LINE',\n",
       " 'Confidence': 31.018173217773438,\n",
       " 'Text': 'P5',\n",
       " 'Geometry': {'BoundingBox': {'Width': 0.004923522472381592,\n",
       "   'Height': 0.005548492074012756,\n",
       "   'Left': 0.7088387608528137,\n",
       "   'Top': 0.05676734447479248},\n",
       "  'Polygon': [{'X': 0.7088387608528137, 'Y': 0.05676734447479248},\n",
       "   {'X': 0.7137622833251953, 'Y': 0.05676734447479248},\n",
       "   {'X': 0.7137622833251953, 'Y': 0.06231583654880524},\n",
       "   {'X': 0.7088387608528137, 'Y': 0.06231583654880524}]},\n",
       " 'Id': 'ae83bce9-ade3-4c16-aaf3-aaada14af112',\n",
       " 'Relationships': [{'Type': 'CHILD',\n",
       "   'Ids': ['90b938d1-816c-4b11-9beb-67d48765c8c2']}]}"
      ]
     },
     "execution_count": 33,
     "metadata": {},
     "output_type": "execute_result"
    }
   ],
   "source": [
    "data[2]"
   ]
  },
  {
   "cell_type": "code",
   "execution_count": 34,
   "metadata": {},
   "outputs": [
    {
     "data": {
      "text/plain": [
       "{'BlockType': 'LINE',\n",
       " 'Confidence': 22.79905128479004,\n",
       " 'Text': 'PE',\n",
       " 'Geometry': {'BoundingBox': {'Width': 0.0046402812004089355,\n",
       "   'Height': 0.005296811461448669,\n",
       "   'Left': 0.7091326713562012,\n",
       "   'Top': 0.06411179155111313},\n",
       "  'Polygon': [{'X': 0.7091326713562012, 'Y': 0.06411179155111313},\n",
       "   {'X': 0.7137729525566101, 'Y': 0.06411179155111313},\n",
       "   {'X': 0.7137729525566101, 'Y': 0.0694086030125618},\n",
       "   {'X': 0.7091326713562012, 'Y': 0.0694086030125618}]},\n",
       " 'Id': '1d83fad1-b494-463f-a7ca-90eec31f6d31',\n",
       " 'Relationships': [{'Type': 'CHILD',\n",
       "   'Ids': ['0a12d22e-bb28-410f-84bc-ca1284b3e54f']}]}"
      ]
     },
     "execution_count": 34,
     "metadata": {},
     "output_type": "execute_result"
    }
   ],
   "source": [
    "data[3]"
   ]
  },
  {
   "cell_type": "code",
   "execution_count": 35,
   "metadata": {},
   "outputs": [
    {
     "data": {
      "text/plain": [
       "{'BlockType': 'LINE',\n",
       " 'Confidence': 8.23853874206543,\n",
       " 'Text': 'PS',\n",
       " 'Geometry': {'BoundingBox': {'Width': 0.004985451698303223,\n",
       "   'Height': 0.006917223334312439,\n",
       "   'Left': 0.7088024616241455,\n",
       "   'Top': 0.09527869522571564},\n",
       "  'Polygon': [{'X': 0.7088024616241455, 'Y': 0.09527869522571564},\n",
       "   {'X': 0.7137879133224487, 'Y': 0.09527869522571564},\n",
       "   {'X': 0.7137879133224487, 'Y': 0.10219591856002808},\n",
       "   {'X': 0.7088024616241455, 'Y': 0.10219591856002808}]},\n",
       " 'Id': '7037327a-267a-487b-9b3d-469c674ead20',\n",
       " 'Relationships': [{'Type': 'CHILD',\n",
       "   'Ids': ['4d12b175-bbce-4254-9d20-c50ea645b045']}]}"
      ]
     },
     "execution_count": 35,
     "metadata": {},
     "output_type": "execute_result"
    }
   ],
   "source": [
    "data[4]"
   ]
  },
  {
   "cell_type": "code",
   "execution_count": 36,
   "metadata": {},
   "outputs": [
    {
     "data": {
      "text/plain": [
       "196"
      ]
     },
     "execution_count": 36,
     "metadata": {},
     "output_type": "execute_result"
    }
   ],
   "source": [
    "len(data)"
   ]
  },
  {
   "cell_type": "code",
   "execution_count": 37,
   "metadata": {},
   "outputs": [
    {
     "data": {
      "text/plain": [
       "{'BlockType': 'WORD',\n",
       " 'Confidence': 97.88721466064453,\n",
       " 'Text': 'E-201-B-P',\n",
       " 'Geometry': {'BoundingBox': {'Width': 0.06825239956378937,\n",
       "   'Height': 0.019662359729409218,\n",
       "   'Left': 0.9176629185676575,\n",
       "   'Top': 0.9529408812522888},\n",
       "  'Polygon': [{'X': 0.9176629185676575, 'Y': 0.9529408812522888},\n",
       "   {'X': 0.9859153032302856, 'Y': 0.9529408812522888},\n",
       "   {'X': 0.9859153032302856, 'Y': 0.9726032614707947},\n",
       "   {'X': 0.9176629185676575, 'Y': 0.9726032614707947}]},\n",
       " 'Id': '62131f5f-196b-4620-8cd8-1e65071c7776'}"
      ]
     },
     "execution_count": 37,
     "metadata": {},
     "output_type": "execute_result"
    }
   ],
   "source": [
    "data[195]"
   ]
  },
  {
   "cell_type": "code",
   "execution_count": 41,
   "metadata": {},
   "outputs": [
    {
     "data": {
      "text/plain": [
       "{'BlockType': 'WORD',\n",
       " 'Confidence': 42.12986373901367,\n",
       " 'Text': 's1-0',\n",
       " 'Geometry': {'BoundingBox': {'Width': 0.009567050263285637,\n",
       "   'Height': 0.006268340162932873,\n",
       "   'Left': 0.7306170463562012,\n",
       "   'Top': 0.9566047191619873},\n",
       "  'Polygon': [{'X': 0.7306170463562012, 'Y': 0.9566047191619873},\n",
       "   {'X': 0.7401841282844543, 'Y': 0.9566047191619873},\n",
       "   {'X': 0.7401841282844543, 'Y': 0.9628730416297913},\n",
       "   {'X': 0.7306170463562012, 'Y': 0.9628730416297913}]},\n",
       " 'Id': '9a7cb48a-9cca-4222-ad0a-14cfbee53a04'}"
      ]
     },
     "execution_count": 41,
     "metadata": {},
     "output_type": "execute_result"
    }
   ],
   "source": [
    "data[194]"
   ]
  },
  {
   "cell_type": "code",
   "execution_count": 44,
   "metadata": {},
   "outputs": [
    {
     "name": "stdout",
     "output_type": "stream",
     "text": [
      "POWER\n",
      "KEYNOTE\n",
      "LEGEND\n",
      "(Not\n",
      "all\n",
      "notes\n",
      "apply\n",
      "to\n",
      "each\n",
      "sheet)\n",
      "P5\n",
      "PE\n",
      "PS\n",
      "P1D\n",
      "P11\n",
      "Stantec\n",
      "STANTEC\n",
      "THTECTUREINC.\n",
      "HD\n",
      "Reserved\n",
      "POweR\n",
      "Desion\n",
      "H.C\n",
      "A\n",
      ".B\n",
      "E\n",
      "FeYA\n",
      "7\n",
      "THINII\n",
      "VA\n",
      "elle\n",
      "@\n",
      "ORU\n",
      "H.B\n",
      "P\n",
      "0u-\n",
      "so\n",
      "ele\n",
      "GLS-21\n",
      "A\n",
      "CONTROLLER\n",
      "88\n",
      "PARIOING\n",
      "Revision\n",
      "SYSTEM\n",
      "Can\n",
      "Cwp.4\n",
      "C\n",
      "cwpar\n",
      "GATE\n",
      "WITH\n",
      "Issued\n",
      "A\n",
      "PERMIT\n",
      "REVISION\n",
      "03/16/2020\n",
      "GARAGE\n",
      "A\n",
      "A@?s\n",
      "MIAMI\n",
      "CT\n",
      "(9C)\n",
      "(9@)\n",
      "-0--s-1\n",
      "WORLDCENTER\n",
      "LIVING\n",
      "HA\n",
      "Block\n",
      "H\n",
      "Retail\n",
      "&\n",
      "Lump\n",
      "Tower\n",
      "Residences\n",
      "650NE\n",
      "2nd\n",
      "Avenue,\n",
      "Miami\n",
      "FL\n",
      "33132\n",
      "Title\n",
      "GROUND\n",
      "FLOOR\n",
      "PLAN-\n",
      "BPOWER\n",
      "FF\n",
      "H.\n",
      "H.\n",
      "L8\n",
      "H.\n",
      "H.\n",
      "H\n",
      "H.\n",
      "H.\n",
      "H\n",
      "Scale\n",
      "Project\n",
      "No\n",
      "1/8= 1-0\n",
      "1/8\n",
      "P-O\n",
      "219420435\n",
      "1219420206\n",
      "Revision\n",
      "Drawing\n",
      "No.\n",
      "GROUND\n",
      "BLEVEL PLAN\n",
      "POWER\n",
      "1\n",
      "G\n",
      "SCALE\n",
      "1/8\n",
      "s1-0\n",
      "E-201-B-P\n"
     ]
    }
   ],
   "source": [
    "for i in data:\n",
    "    if i['BlockType'] == 'WORD':\n",
    "        print(i['Text'])"
   ]
  },
  {
   "cell_type": "code",
   "execution_count": null,
   "metadata": {},
   "outputs": [],
   "source": []
  }
 ],
 "metadata": {
  "kernelspec": {
   "display_name": "Python 3",
   "language": "python",
   "name": "python3"
  },
  "language_info": {
   "codemirror_mode": {
    "name": "ipython",
    "version": 3
   },
   "file_extension": ".py",
   "mimetype": "text/x-python",
   "name": "python",
   "nbconvert_exporter": "python",
   "pygments_lexer": "ipython3",
   "version": "3.7.3"
  }
 },
 "nbformat": 4,
 "nbformat_minor": 4
}
